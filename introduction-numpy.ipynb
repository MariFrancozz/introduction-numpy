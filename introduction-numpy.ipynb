{
 "cells": [
  {
   "cell_type": "code",
   "execution_count": 1,
   "id": "38451d43",
   "metadata": {},
   "outputs": [],
   "source": [
    "#importar a biblioteca\n",
    "import numpy as np"
   ]
  },
  {
   "cell_type": "code",
   "execution_count": 2,
   "id": "879845d0",
   "metadata": {},
   "outputs": [],
   "source": [
    "#posso criar um array apartir de uma lista!\n",
    "#criando listas\n",
    "qtde = [2, 5, 10, 20, 35]\n",
    "custo = [100, 150, 450, 320, 195]"
   ]
  },
  {
   "cell_type": "code",
   "execution_count": 3,
   "id": "8b47d866",
   "metadata": {},
   "outputs": [],
   "source": [
    "#Transformando a lista \"qtd\" em array, utilizando o numpy e chamando a função array\n",
    "arr1 = np.array(qtde)"
   ]
  },
  {
   "cell_type": "code",
   "execution_count": 4,
   "id": "4540f066",
   "metadata": {},
   "outputs": [],
   "source": [
    "arr2 = np.array(custo)"
   ]
  },
  {
   "cell_type": "code",
   "execution_count": 5,
   "id": "1a5a4e47",
   "metadata": {},
   "outputs": [
    {
     "ename": "TypeError",
     "evalue": "can't multiply sequence by non-int of type 'list'",
     "output_type": "error",
     "traceback": [
      "\u001b[1;31m---------------------------------------------------------------------------\u001b[0m",
      "\u001b[1;31mTypeError\u001b[0m                                 Traceback (most recent call last)",
      "\u001b[1;32m~\\AppData\\Local\\Temp\\ipykernel_10764\\943453590.py\u001b[0m in \u001b[0;36m<module>\u001b[1;34m\u001b[0m\n\u001b[1;32m----> 1\u001b[1;33m \u001b[0mestoque\u001b[0m \u001b[1;33m=\u001b[0m \u001b[0mqtde\u001b[0m\u001b[1;33m*\u001b[0m\u001b[0mcusto\u001b[0m\u001b[1;33m\u001b[0m\u001b[1;33m\u001b[0m\u001b[0m\n\u001b[0m",
      "\u001b[1;31mTypeError\u001b[0m: can't multiply sequence by non-int of type 'list'"
     ]
    }
   ],
   "source": [
    "#Quando eu tento multiplicar listas, recebo o \"TypeError: can´t multiply sequence by non-int of type list\", \n",
    "#isso significa que não posso multiplicar listas.\n",
    "\n",
    "estoque = qtde*custo"
   ]
  },
  {
   "cell_type": "code",
   "execution_count": 9,
   "id": "58b0621b",
   "metadata": {},
   "outputs": [],
   "source": [
    "#Quando faço a mesma operação, mas agora utilizando array, \n",
    "estoque1 = arr1*arr2"
   ]
  },
  {
   "cell_type": "code",
   "execution_count": 11,
   "id": "6243718f",
   "metadata": {},
   "outputs": [
    {
     "data": {
      "text/plain": [
       "array([ 200,  750, 4500, 6400, 6825])"
      ]
     },
     "execution_count": 11,
     "metadata": {},
     "output_type": "execute_result"
    }
   ],
   "source": [
    "estoque1"
   ]
  },
  {
   "cell_type": "code",
   "execution_count": 12,
   "id": "f7e7b811",
   "metadata": {},
   "outputs": [],
   "source": [
    "custo1 = [100, 200, 300, 400]\n",
    "venda = [125, 235, 355, 490]"
   ]
  },
  {
   "cell_type": "code",
   "execution_count": 13,
   "id": "1f0031fd",
   "metadata": {},
   "outputs": [],
   "source": [
    "arr3 = np.array(custo1)\n",
    "arr4 = np.array(venda)"
   ]
  },
  {
   "cell_type": "code",
   "execution_count": 14,
   "id": "024c17df",
   "metadata": {},
   "outputs": [],
   "source": [
    "lucro = arr4 - arr3"
   ]
  },
  {
   "cell_type": "code",
   "execution_count": 15,
   "id": "5d317f9c",
   "metadata": {},
   "outputs": [
    {
     "data": {
      "text/plain": [
       "array([25, 35, 55, 90])"
      ]
     },
     "execution_count": 15,
     "metadata": {},
     "output_type": "execute_result"
    }
   ],
   "source": [
    "lucro"
   ]
  },
  {
   "cell_type": "code",
   "execution_count": null,
   "id": "add10f86",
   "metadata": {},
   "outputs": [],
   "source": [
    "#Criando arrays através do numpy\n",
    "#1ºmétodo: arange"
   ]
  },
  {
   "cell_type": "code",
   "execution_count": 17,
   "id": "48dcb3c2",
   "metadata": {},
   "outputs": [
    {
     "data": {
      "text/plain": [
       "array([10, 11, 12, 13, 14, 15, 16, 17, 18, 19])"
      ]
     },
     "execution_count": 17,
     "metadata": {},
     "output_type": "execute_result"
    }
   ],
   "source": [
    "np.arange(10, 20)"
   ]
  },
  {
   "cell_type": "code",
   "execution_count": 18,
   "id": "9aa67399",
   "metadata": {},
   "outputs": [
    {
     "data": {
      "text/plain": [
       "array([10, 12, 14, 16, 18, 20])"
      ]
     },
     "execution_count": 18,
     "metadata": {},
     "output_type": "execute_result"
    }
   ],
   "source": [
    "#posso especificar o salto que desejo\n",
    "np.arange(10,21,2)"
   ]
  },
  {
   "cell_type": "code",
   "execution_count": 19,
   "id": "e27b0390",
   "metadata": {},
   "outputs": [
    {
     "data": {
      "text/plain": [
       "array([10., 12., 14., 16., 18., 20.])"
      ]
     },
     "execution_count": 19,
     "metadata": {},
     "output_type": "execute_result"
    }
   ],
   "source": [
    "#Posso especificar o tipo de dado que eu quero também.\n",
    "np.arange(10,21,2,dtype = float)"
   ]
  },
  {
   "cell_type": "code",
   "execution_count": null,
   "id": "f2760667",
   "metadata": {},
   "outputs": [],
   "source": [
    "#2ºmétodo:Linspace retorna números espaçados de modo uniforme em um intervalo. \n",
    "#Dessa forma, dado um ponto inicial e de parada, assim como a quantidade de valores, linspace irá distribuí-los \n",
    "#uniformemente para você em uma matriz NumPy. \n",
    "#Isso é especialmente útil para visualizações de dados e declaração de eixos durante a plotagem."
   ]
  },
  {
   "cell_type": "code",
   "execution_count": 21,
   "id": "7dd80ea4",
   "metadata": {},
   "outputs": [
    {
     "data": {
      "text/plain": [
       "array([ 1.,  2.,  3.,  4.,  5.,  6.,  7.,  8.,  9., 10.])"
      ]
     },
     "execution_count": 21,
     "metadata": {},
     "output_type": "execute_result"
    }
   ],
   "source": [
    "np.linspace(1,10,10)"
   ]
  },
  {
   "cell_type": "code",
   "execution_count": null,
   "id": "eb0862d3",
   "metadata": {},
   "outputs": [],
   "source": []
  }
 ],
 "metadata": {
  "kernelspec": {
   "display_name": "Python 3 (ipykernel)",
   "language": "python",
   "name": "python3"
  },
  "language_info": {
   "codemirror_mode": {
    "name": "ipython",
    "version": 3
   },
   "file_extension": ".py",
   "mimetype": "text/x-python",
   "name": "python",
   "nbconvert_exporter": "python",
   "pygments_lexer": "ipython3",
   "version": "3.9.13"
  }
 },
 "nbformat": 4,
 "nbformat_minor": 5
}
